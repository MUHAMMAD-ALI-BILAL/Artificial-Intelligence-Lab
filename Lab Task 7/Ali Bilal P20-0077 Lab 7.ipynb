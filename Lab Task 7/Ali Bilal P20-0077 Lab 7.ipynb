{
 "cells": [
  {
   "cell_type": "code",
   "execution_count": 1,
   "id": "7767e1ec",
   "metadata": {},
   "outputs": [],
   "source": [
    "import pandas as pd\n",
    "import matplotlib.pyplot as plt\n",
    "from sklearn.preprocessing import StandardScaler\n",
    "from sklearn.cluster import KMeans"
   ]
  },
  {
   "cell_type": "code",
   "execution_count": 2,
   "id": "1ac4d12e",
   "metadata": {},
   "outputs": [],
   "source": [
    "data = pd.read_csv('Cust_Segmentation.csv')"
   ]
  },
  {
   "cell_type": "code",
   "execution_count": 3,
   "id": "36699a10",
   "metadata": {},
   "outputs": [
    {
     "name": "stdout",
     "output_type": "stream",
     "text": [
      "   Customer Id  Age  Edu  Years Employed  Income  Card Debt  Other Debt  \\\n",
      "0            1   41    2               6      19      0.124       1.073   \n",
      "1            2   47    1              26     100      4.582       8.218   \n",
      "2            3   33    2              10      57      6.111       5.802   \n",
      "3            4   29    2               4      19      0.681       0.516   \n",
      "4            5   47    1              31     253      9.308       8.908   \n",
      "\n",
      "   Defaulted Address  DebtIncomeRatio  \n",
      "0        0.0  NBA001              6.3  \n",
      "1        0.0  NBA021             12.8  \n",
      "2        1.0  NBA013             20.9  \n",
      "3        0.0  NBA009              6.3  \n",
      "4        0.0  NBA008              7.2  \n"
     ]
    }
   ],
   "source": [
    "print(data.head())"
   ]
  },
  {
   "cell_type": "code",
   "execution_count": 4,
   "id": "0d67bcf1",
   "metadata": {},
   "outputs": [
    {
     "data": {
      "text/plain": [
       "Customer Id          0\n",
       "Age                  0\n",
       "Edu                  0\n",
       "Years Employed       0\n",
       "Income               0\n",
       "Card Debt            0\n",
       "Other Debt           0\n",
       "Defaulted          150\n",
       "Address              0\n",
       "DebtIncomeRatio      0\n",
       "dtype: int64"
      ]
     },
     "execution_count": 4,
     "metadata": {},
     "output_type": "execute_result"
    }
   ],
   "source": [
    "data.isnull().sum()"
   ]
  },
  {
   "cell_type": "code",
   "execution_count": 5,
   "id": "a0bc8391",
   "metadata": {},
   "outputs": [],
   "source": [
    "data = data.drop_duplicates()\n",
    "data = data.dropna()"
   ]
  },
  {
   "cell_type": "code",
   "execution_count": 6,
   "id": "69d3a3d0",
   "metadata": {},
   "outputs": [
    {
     "data": {
      "text/plain": [
       "Customer Id        0\n",
       "Age                0\n",
       "Edu                0\n",
       "Years Employed     0\n",
       "Income             0\n",
       "Card Debt          0\n",
       "Other Debt         0\n",
       "Defaulted          0\n",
       "Address            0\n",
       "DebtIncomeRatio    0\n",
       "dtype: int64"
      ]
     },
     "execution_count": 6,
     "metadata": {},
     "output_type": "execute_result"
    }
   ],
   "source": [
    "data.isnull().sum()"
   ]
  },
  {
   "cell_type": "code",
   "execution_count": 7,
   "id": "14a7a730",
   "metadata": {},
   "outputs": [],
   "source": [
    "selected_features = data[['Age', 'Years Employed', 'Income', 'Card Debt', 'Other Debt', 'DebtIncomeRatio', 'Defaulted']]"
   ]
  },
  {
   "cell_type": "code",
   "execution_count": 8,
   "id": "52a5a6fd",
   "metadata": {},
   "outputs": [],
   "source": [
    "scaler = StandardScaler()\n",
    "selected_features = scaler.fit_transform(selected_features)"
   ]
  },
  {
   "cell_type": "code",
   "execution_count": 9,
   "id": "50c2a007",
   "metadata": {},
   "outputs": [
    {
     "data": {
      "text/plain": [
       "array([[ 0.76830405, -0.35900652, -0.72310225, ..., -0.60428433,\n",
       "        -0.58052847, -0.59494973],\n",
       "       [ 1.51908977,  2.64702891,  1.47870741, ...,  1.5706204 ,\n",
       "         0.37222169, -0.59494973],\n",
       "       [-0.23274357,  0.24220057,  0.30984549, ...,  0.83520125,\n",
       "         1.55949495,  1.68081427],\n",
       "       ...,\n",
       "       [-1.2337912 , -1.26081715, -0.75028509, ...,  0.04620852,\n",
       "         3.39170678,  1.68081427],\n",
       "       [-0.35787453,  0.54280411, -0.47845673, ..., -0.71904138,\n",
       "        -1.07889008, -0.59494973],\n",
       "       [ 2.14474454,  1.1440112 ,  0.50012534, ...,  0.17648972,\n",
       "        -0.24340149, -0.59494973]])"
      ]
     },
     "execution_count": 9,
     "metadata": {},
     "output_type": "execute_result"
    }
   ],
   "source": [
    "selected_features"
   ]
  },
  {
   "cell_type": "code",
   "execution_count": 10,
   "id": "231ae7da",
   "metadata": {},
   "outputs": [],
   "source": [
    "inertia = []\n",
    "for k in range(1, 11):\n",
    "    kmeans = KMeans(n_clusters=k, n_init=10, random_state=42)\n",
    "    kmeans.fit(selected_features)\n",
    "    inertia.append(kmeans.inertia_)"
   ]
  },
  {
   "cell_type": "code",
   "execution_count": null,
   "id": "619c168f",
   "metadata": {},
   "outputs": [],
   "source": []
  },
  {
   "cell_type": "code",
   "execution_count": null,
   "id": "039b2ec3",
   "metadata": {},
   "outputs": [],
   "source": []
  },
  {
   "cell_type": "code",
   "execution_count": 11,
   "id": "ca96fa69",
   "metadata": {},
   "outputs": [
    {
     "data": {
      "image/png": "[encoded data removed]",
      "text/plain": [
       "<Figure size 432x288 with 1 Axes>"
      ]
     },
     "metadata": {
      "needs_background": "light"
     },
     "output_type": "display_data"
    },
    {
     "data": {
      "image/png": "[encoded data removed]",
      "text/plain": [
       "<Figure size 432x288 with 1 Axes>"
      ]
     },
     "metadata": {
      "needs_background": "light"
     },
     "output_type": "display_data"
    }
   ],
   "source": [
    "plt.plot(range(1, 11), inertia)\n",
    "plt.xlabel('Number of Clusters')\n",
    "plt.ylabel('Inertia')\n",
    "plt.title('Elbow Method')\n",
    "plt.show()\n",
    "optimal_k = 3\n",
    "kmeans = KMeans(n_clusters=optimal_k, n_init=10, random_state=42)\n",
    "clusters = kmeans.fit_predict(selected_features)\n",
    "plt.scatter(selected_features[:, 0], selected_features[:, 2], c=clusters, cmap='viridis')\n",
    "plt.xlabel('Age')\n",
    "plt.ylabel('Income')\n",
    "plt.title('Customer Segments')\n",
    "plt.show()"
   ]
  },
  {
   "cell_type": "markdown",
   "id": "798c1c5e",
   "metadata": {},
   "source": [
    "# When should we split the data into training and testing sets when using K-means clustering, and why?"
   ]
  },
  {
   "cell_type": "markdown",
   "id": "9630c6ef",
   "metadata": {},
   "source": [
    " When using K-means clustering, the data should be split into training and testing sets before applying the clustering algorithm.\n",
    "\n",
    "The purpose of splitting the data is to evaluate the performance of the K-means clustering algorithm on new, unseen data. This is essential to ensure that the model generalizes well to new data and is not overfitting to the training data.\n",
    "\n",
    " The data should be split into a training set and a testing set before the clustering algorithm is applied. The training set is used to fit the model, i.e., to determine the optimal number of clusters and the cluster centers. The testing set is then used to evaluate the performance of the model by measuring the similarity between the predicted clusters and the actual clusters."
   ]
  },
  {
   "cell_type": "markdown",
   "id": "506305aa",
   "metadata": {},
   "source": [
    "# Why do we need to scale the features before performing K-means clustering?"
   ]
  },
  {
   "cell_type": "markdown",
   "id": "10148c2b",
   "metadata": {},
   "source": [
    "Scaling the features before performing K-means clustering is important for two main reasons:\n",
    "\n",
    "Preventing Features with Larger Magnitudes from Dominating the Clustering Process:\n",
    "K-means clustering relies on the distance between data points to form clusters. If the features have different scales, features with larger magnitudes will dominate the distance calculation and clustering process, leading to biased and inaccurate results.\n",
    "\n",
    "Achieving Better Convergence and Performance:\n",
    "K-means clustering is an iterative algorithm that aims to minimize the sum of squared distances between the data points and their assigned cluster centers. If the features are not scaled, the optimization process may take a longer time to converge or even fail to converge, leading to suboptimal clustering results."
   ]
  },
  {
   "cell_type": "code",
   "execution_count": null,
   "id": "337fad15",
   "metadata": {},
   "outputs": [],
   "source": []
  },
  {
   "cell_type": "code",
   "execution_count": null,
   "id": "d41c8e14",
   "metadata": {},
   "outputs": [],
   "source": []
  },
  {
   "cell_type": "code",
   "execution_count": null,
   "id": "000b3c2a",
   "metadata": {},
   "outputs": [],
   "source": []
  },
  {
   "cell_type": "code",
   "execution_count": null,
   "id": "8a4209a9",
   "metadata": {},
   "outputs": [],
   "source": []
  },
  {
   "cell_type": "code",
   "execution_count": null,
   "id": "dca35d70",
   "metadata": {},
   "outputs": [],
   "source": []
  }
 ],
 "metadata": {
  "kernelspec": {
   "display_name": "Python 3 (ipykernel)",
   "language": "python",
   "name": "python3"
  },
  "language_info": {
   "codemirror_mode": {
    "name": "ipython",
    "version": 3
   },
   "file_extension": ".py",
   "mimetype": "text/x-python",
   "name": "python",
   "nbconvert_exporter": "python",
   "pygments_lexer": "ipython3",
   "version": "3.9.7"
  }
 },
 "nbformat": 4,
 "nbformat_minor": 5
}
