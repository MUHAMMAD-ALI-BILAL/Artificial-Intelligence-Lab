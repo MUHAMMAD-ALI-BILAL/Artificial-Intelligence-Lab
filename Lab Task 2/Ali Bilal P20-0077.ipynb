{
 "cells": [
  {
   "cell_type": "code",
   "execution_count": 1,
   "metadata": {},
   "outputs": [
    {
     "name": "stdout",
     "output_type": "stream",
     "text": [
      "Enter location of vacuum (A/B): A\n",
      "Enter status of room A (0/1): 0\n",
      "Enter status of room B (0/1): 1\n",
      "location condition: {'A': '0', 'B': '1'}\n",
      "Location A is already clean\n",
      "Moving to room B\n",
      "Location B cleaned. Cost: 2\n",
      "\n",
      "Goal state: {'A': '0', 'B': '0'}\n",
      "Performance measurement: 2\n"
     ]
    }
   ],
   "source": [
    "#INSTRUCTIONS\n",
    "#Enter LOCATION A/B in captial letters\n",
    "#Enter Status O/1 accordingly where 0 means CLEAN and 1 means DIRTY\n",
    "\n",
    "def vacuum_world():\n",
    "    # Initialize goal state with both rooms as clean\n",
    "    \n",
    "#     goal_state = {'A': '0', 'B': '0'}\n",
    "    cost = 0\n",
    "\n",
    "    # Get user input for vacuum location and room status\n",
    "    location = input(\"Enter location of vacuum (A/B): \").upper()\n",
    "    status = input(f\"Enter status of room {location} (0/1): \")\n",
    "    other_room = 'A' if location == 'B' else 'B'\n",
    "    other_status = input(f\"Enter status of room {other_room} (0/1): \")\n",
    "\n",
    "    goal_state = {location: status, other_room: other_status}\n",
    " \n",
    "    print(\"location condition:\", goal_state)\n",
    "\n",
    "    if status == '1':\n",
    "        # Vacuum is in a dirty room\n",
    "        goal_state[location] = '0'\n",
    "        cost += 1\n",
    "        print(f\"Location {location} cleaned. Cost: {cost}\")\n",
    "        \n",
    "        \n",
    "        if other_status == '1':\n",
    "            # Other room is dirty\n",
    "            print(f\"Moving to room {other_room}\")\n",
    "            cost += 1\n",
    "            goal_state[other_room] = '0'\n",
    "            cost += 1\n",
    "            print(f\"Location {other_room} cleaned. Cost: {cost}\")\n",
    "        else:\n",
    "            print(f\"Room {other_room} is already clean\")\n",
    "    else:\n",
    "        print(f\"Location {location} is already clean\")\n",
    "        \n",
    "        if other_status == '1':\n",
    "            # Other room is dirty\n",
    "            print(f\"Moving to room {other_room}\")\n",
    "            cost += 1\n",
    "            goal_state[other_room] = '0'\n",
    "            cost += 1\n",
    "            print(f\"Location {other_room} cleaned. Cost: {cost}\")\n",
    "        else:\n",
    "            print(f\"Room {other_room} is already clean\")\n",
    "\n",
    "    print(\"\\nGoal state:\", goal_state)\n",
    "    print(\"Performance measurement:\", cost)\n",
    "\n",
    "vacuum_world()"
   ]
  },
  {
   "cell_type": "markdown",
   "metadata": {},
   "source": [
    "<h2>LAB Task </h2>\n",
    "<h3>Question N0 1</h3>"
   ]
  },
  {
   "cell_type": "code",
   "execution_count": 2,
   "metadata": {},
   "outputs": [
    {
     "name": "stdout",
     "output_type": "stream",
     "text": [
      "Temperature Detected percentage(%): 22\n",
      "Is smoke is Detected (True/Flase): True\n",
      "alarm off and the sprinkler system deactivated\n"
     ]
    }
   ],
   "source": [
    "import logging\n",
    "\n",
    "class Fire_Detector():\n",
    "    \n",
    "    def __init__(self):\n",
    "    \n",
    "        #Threshold \n",
    "        self.temperature = 0;\n",
    "        self.smoke = False    #Tempertaure is 40 and Smoke False by Default \n",
    "        \n",
    "    def Actions(self):\n",
    "     \n",
    "        Fire_Detector.inputs(self)\n",
    "        \n",
    "        if self.temperature == 40 and self.smoke == True:\n",
    "            print(\" alarm will sound and the sprinkler system will activate\")\n",
    "        \n",
    "        if self.temperature > 40 and self.smoke == True:\n",
    "            print(\"the alarm will sound and the fire department will be called\")\n",
    "        \n",
    "        if self.temperature > 40 and self.smoke == False:\n",
    "            print(\"alarm will sound and the sprinkler system will activate\")\n",
    "             \n",
    "        if self.temperature <= 40 and self.smoke == False:\n",
    "            print(\"alarm off and the sprinkler system deactivated\")\n",
    "             \n",
    "        \n",
    "    \n",
    "    \n",
    "    \n",
    "    def inputs(self):\n",
    "        while True:\n",
    "            try:\n",
    "                self.temperature = int(input(\"Temperature Detected percentage(%): \"))\n",
    "                break\n",
    "            except ValueError:\n",
    "                logging.warning(\"Oops!  That was no valid number.  Try again...\")\n",
    "\n",
    "\n",
    "        while True:\n",
    "            user_input = input(\"Is smoke is Detected (True/Flase): \")\n",
    "            if user_input == \"True\":\n",
    "                self.somke = True\n",
    "                break\n",
    "            elif user_input == \"False\":\n",
    "                self.smoke = False\n",
    "                break\n",
    "            else:\n",
    "                logging.warning(\"Invalid input. Please enter True or False.\")\n",
    "    \n",
    "obj = Fire_Detector()\n",
    "obj.Actions()"
   ]
  },
  {
   "cell_type": "markdown",
   "metadata": {},
   "source": [
    "<h3>Question N0 2</h3>"
   ]
  },
  {
   "cell_type": "code",
   "execution_count": 3,
   "metadata": {},
   "outputs": [
    {
     "name": "stdout",
     "output_type": "stream",
     "text": [
      "Enter the Threshold of Dry Soil 22\n",
      "Enter the Threshold of Moist Soil 2\n",
      "Enter the Threshold of Wet Soil 1\n",
      "Enter the Threshold of Wet Soil 1\n",
      "activates the watering system to water the plants.\n"
     ]
    }
   ],
   "source": [
    "import logging\n",
    "\n",
    "class Watering_system():\n",
    "    \n",
    "    def __init__(self):\n",
    "        \n",
    "        #Moisture level sensor works on Percentage \n",
    "        \n",
    "    \n",
    "        self.Threshold_dry =0\n",
    "        self.Threshold_moist =0\n",
    "        self.Threshold_wet =0\n",
    "        self.Moisture_level =0\n",
    "\n",
    "        \n",
    "    def Actions(self):\n",
    "            \n",
    "        Watering_system.inputs(self)\n",
    "            \n",
    "        if self.Moisture_level <= self.Threshold_dry:\n",
    "            print(\"activates the watering system to water the plants.\")\n",
    "        \n",
    "        if self.Moisture_level > self.Threshold_moist and self.Moisture_level > self.Threshold_wet:\n",
    "            print(\"keeps the watering system off to avoid over watering the plants.\")\n",
    "            \n",
    "        if self.Moisture_level > self.Threshold_wet and self.Moisture_level < self.Threshold_wet:\n",
    "            print(\"deactivates the watering system to prevent waterlogging.\")\n",
    "            \n",
    "    def inputs(self):\n",
    "        while True:\n",
    "            try:\n",
    "                self.Threshold_dry = int(input(\"Enter the Threshold of Dry Soil \"))\n",
    "                break\n",
    "            except ValueError:\n",
    "                logging.warning(\"Oops!  That was no valid number.  Try again...\")\n",
    "        while True:\n",
    "            try:\n",
    "                self.Threshold_moist = int(input(\"Enter the Threshold of Moist Soil \"))\n",
    "                break\n",
    "            except ValueError:\n",
    "                logging.warning(\"Oops!  That was no valid number.  Try again...\")\n",
    "\n",
    "        while True:\n",
    "            try:\n",
    "                self.Threshold_wet = int(input(\"Enter the Threshold of Wet Soil \"))\n",
    "                break\n",
    "            except ValueError:\n",
    "                logging.warning(\"Oops!  That was no valid number.  Try again...\")\n",
    "        \n",
    "        while True:\n",
    "            try:\n",
    "                self.Moisture_level = int(input(\"Enter the Threshold of Wet Soil \"))\n",
    "                break\n",
    "            except ValueError:\n",
    "                logging.warning(\"Oops!  That was no valid number.  Try again...\")\n",
    "\n",
    "\n",
    "ai = Watering_system()\n",
    "ai.Actions()"
   ]
  },
  {
   "cell_type": "code",
   "execution_count": null,
   "metadata": {},
   "outputs": [],
   "source": []
  },
  {
   "cell_type": "code",
   "execution_count": null,
   "metadata": {},
   "outputs": [],
   "source": []
  },
  {
   "cell_type": "code",
   "execution_count": null,
   "metadata": {},
   "outputs": [],
   "source": []
  },
  {
   "cell_type": "code",
   "execution_count": null,
   "metadata": {},
   "outputs": [],
   "source": []
  }
 ],
 "metadata": {
  "kernelspec": {
   "display_name": "Python 3 (ipykernel)",
   "language": "python",
   "name": "python3"
  },
  "language_info": {
   "codemirror_mode": {
    "name": "ipython",
    "version": 3
   },
   "file_extension": ".py",
   "mimetype": "text/x-python",
   "name": "python",
   "nbconvert_exporter": "python",
   "pygments_lexer": "ipython3",
   "version": "3.9.7"
  }
 },
 "nbformat": 4,
 "nbformat_minor": 4
}
